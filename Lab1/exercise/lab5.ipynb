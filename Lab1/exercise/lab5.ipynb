{
 "cells": [
  {
   "cell_type": "code",
   "execution_count": null,
   "id": "7266c454",
   "metadata": {},
   "outputs": [
    {
     "name": "stdout",
     "output_type": "stream",
     "text": [
      "baby_blurred.png saved\n",
      "balloon_blurred.png saved\n",
      "flower_blurred.png saved\n"
     ]
    }
   ],
   "source": [
    "import numpy as np\n",
    "import imageio.v2 as iio\n",
    "import scipy.ndimage as sn\n",
    "import matplotlib.pyplot as plt\n",
    "# Đọc ảnh ở chế độ grayscale (màu xám)\n",
    "baby = iio.imread('baby.jpeg', mode='L')\n",
    "balloon = iio.imread('balloons_noisy.png', mode='L')\n",
    "flower = iio.imread('flower.jpeg', mode='L')\n",
    "# Tạo kernel làm mờ trung bình 5x5 (mean filter)\n",
    "k = np.ones((5,5)) / 25  # Mỗi phần tử có giá trị 1/25 để tính trung bình\n",
    "# Làm mờ ảnh baby bằng phép tích chập (convolution)\n",
    "b = sn.convolve(baby, k).astype(np.uint8)\n",
    "iio.imsave('baby_blurred.png', b)  # Lưu ảnh sau khi làm mờ\n",
    "print('baby_blurred.png saved')\n",
    "# Làm mờ ảnh balloon\n",
    "b = sn.convolve(balloon, k).astype(np.uint8)\n",
    "iio.imsave('balloon_blurred.png', b)\n",
    "print('balloon_blurred.png saved')\n",
    "# Làm mờ ảnh flower\n",
    "b = sn.convolve(flower, k).astype(np.uint8)\n",
    "iio.imsave('flower_blurred.png', b)\n",
    "print('flower_blurred.png saved')\n",
    "\n"
   ]
  }
 ],
 "metadata": {
  "kernelspec": {
   "display_name": "Python 3",
   "language": "python",
   "name": "python3"
  },
  "language_info": {
   "codemirror_mode": {
    "name": "ipython",
    "version": 3
   },
   "file_extension": ".py",
   "mimetype": "text/x-python",
   "name": "python",
   "nbconvert_exporter": "python",
   "pygments_lexer": "ipython3",
   "version": "3.13.2"
  }
 },
 "nbformat": 4,
 "nbformat_minor": 5
}
