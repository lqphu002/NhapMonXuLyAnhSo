{
 "cells": [
  {
   "cell_type": "code",
   "execution_count": 2,
   "id": "1e2efff6",
   "metadata": {},
   "outputs": [
    {
     "name": "stdout",
     "output_type": "stream",
     "text": [
      "Đã lưu các ảnh với các kênh màu hoán đổi: anh_RGB.jpg, anh_GRB.jpg, anh_BRG.jpg\n"
     ]
    }
   ],
   "source": [
    "import cv2\n",
    "import numpy as np\n",
    "import matplotlib.pyplot as plt\n",
    "# Đọc ảnh gốc từ file 'bird.png'\n",
    "image = cv2.imread('bird.png')  \n",
    "# Hoán đổi kênh màu từ BGR sang RGB (chuẩn màu của Matplotlib)\n",
    "rgb = cv2.cvtColor(image, cv2.COLOR_BGR2RGB)  # BGR -> RGB\n",
    "# Hoán đổi thủ công thứ tự kênh: BGR -> GRB (G - R - B)\n",
    "grb = image[:, :, [1, 2, 0]]\n",
    "# Hoán đổi thủ công thứ tự kênh: BGR -> BRG (B - R - G),\n",
    "# trong đó lấy G hai lần cho kênh đầu và giữa (không phải swap đúng chuẩn)\n",
    "brg = image[:, :, [1, 1, 2]]  # Lưu ý: đây có thể là lỗi logic, vì không lấy kênh B đầu tiên\n",
    "# Lưu các ảnh đã hoán đổi kênh màu ra file\n",
    "cv2.imwrite('anh_RGB.jpg', rgb)\n",
    "cv2.imwrite('anh_GRB.jpg', grb)\n",
    "cv2.imwrite('anh_BRG.jpg', brg)\n",
    "# In thông báo xác nhận đã lưu ảnh\n",
    "print(\"Đã lưu các ảnh với các kênh màu hoán đổi: anh_RGB.jpg, anh_GRB.jpg, anh_BRG.jpg\")\n",
    "# Lệnh hiển thị ảnh, nhưng ở đây không có ảnh nào được vẽ nên plt.show() sẽ không hiển thị gì\n",
    "plt.show()\n"
   ]
  }
 ],
 "metadata": {
  "kernelspec": {
   "display_name": "Python 3",
   "language": "python",
   "name": "python3"
  },
  "language_info": {
   "codemirror_mode": {
    "name": "ipython",
    "version": 3
   },
   "file_extension": ".py",
   "mimetype": "text/x-python",
   "name": "python",
   "nbconvert_exporter": "python",
   "pygments_lexer": "ipython3",
   "version": "3.13.2"
  }
 },
 "nbformat": 4,
 "nbformat_minor": 5
}
